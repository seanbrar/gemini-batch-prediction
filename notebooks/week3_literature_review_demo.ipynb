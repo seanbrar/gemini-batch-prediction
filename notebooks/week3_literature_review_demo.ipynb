{
 "cells": [
  {
   "cell_type": "markdown",
   "metadata": {},
   "source": [
    "# AI-Accelerated Academic Research\n",
    "\n",
    "> **12 research sources analyzed in 82 seconds. Traditional literature review: hours. Our approach: minutes.**\n",
    "\n",
    "## Transforming Literature Review with Batch Processing\n",
    "\n",
    "**Research Question**: \"What are the current approaches to AI model efficiency?\"\n",
    "\n",
    "**Challenge**: Analyzing multiple research sources (papers, videos, web content) typically requires separate API calls for each source-question combination, leading to redundant processing and high costs.\n",
    "\n",
    "### The Token Economics Problem\n",
    "\n",
    "When analyzing research literature, traditional approaches repeat content tokens for every question:"
   ]
  },
  {
   "cell_type": "code",
   "execution_count": null,
   "metadata": {},
   "outputs": [],
   "source": [
    "# Traditional approach - each question requires full content\n",
    "sources = [\n",
    "    \"paper1.pdf\",  # ~50,000 tokens\n",
    "    \"paper2.pdf\",  # ~45,000 tokens\n",
    "    \"arxiv_url\",  # ~40,000 tokens\n",
    "    \"youtube_video\",  # ~200,000 tokens\n",
    "]\n",
    "\n",
    "questions = [\n",
    "    \"What are the main efficiency techniques?\",\n",
    "    \"Which approaches show promising results?\",\n",
    "    \"What are the research gaps?\",\n",
    "]\n",
    "\n",
    "# Traditional: 3 calls x 335,000 tokens = 1,005,000 total tokens\n",
    "# Batch: 1 call x 335,030 tokens = 3x fewer tokens"
   ]
  },
  {
   "cell_type": "markdown",
   "metadata": {},
   "source": [
    "**Core problem**: Content dominates token usage but gets repeated unnecessarily.\n",
    "\n",
    "### Batch Processing Solution\n",
    "\n",
    "Process all questions simultaneously with content sent once:"
   ]
  },
  {
   "cell_type": "code",
   "execution_count": null,
   "metadata": {},
   "outputs": [],
   "source": [
    "# Batch approach:\n",
    "# Single call: [All content] + [All questions] = ~335,000 + 30 tokens\n",
    "# Efficiency improvement: ~3x (1,005,000 / 335,030)"
   ]
  },
  {
   "cell_type": "markdown",
   "metadata": {},
   "source": [
    "We'll demonstrate cross-source synthesis with 66% cost reduction.\n",
    "\n",
    "---\n",
    "\n",
    "## Section 2: Multi-Source Setup & Analysis\n",
    "\n",
    "### Content Sources\n",
    "\n",
    "We'll analyze AI efficiency research from multiple source types:\n"
   ]
  },
  {
   "cell_type": "code",
   "execution_count": 3,
   "metadata": {},
   "outputs": [
    {
     "name": "stdout",
     "output_type": "stream",
     "text": [
      "📄 Total sources: 12\n",
      "📂 Source breakdown:\n",
      "    • Local File: 10\n",
      "    • Web Content: 1\n",
      "    • Youtube Video: 1\n"
     ]
    }
   ],
   "source": [
    "# Import the framework\n",
    "\n",
    "from pydantic import BaseModel\n",
    "\n",
    "from gemini_batch import BatchProcessor\n",
    "from gemini_batch.analysis import ContentAnalyzer\n",
    "\n",
    "# Define our research sources\n",
    "sources = [\n",
    "    \"../examples/test_data/research_papers/\",  # Directory of 10 research papers\n",
    "    \"https://arxiv.org/pdf/1503.02531\",  # Hinton et al. - Knowledge Distillation\n",
    "    \"https://www.youtube.com/watch?v=u1_K4UeAl-s\",  # Song Han - Efficient AI Computing\n",
    "]\n",
    "\n",
    "# Analyze content composition\n",
    "analyzer = ContentAnalyzer()\n",
    "content_summary = analyzer.analyze_sources(sources)\n",
    "\n",
    "print(f\"📄 Total sources: {content_summary.total_count}\")\n",
    "print(\"📂 Source breakdown:\")\n",
    "for source_type, count in content_summary.breakdown.items():\n",
    "    display_name = source_type.replace(\"_\", \" \").title()\n",
    "    print(f\"    • {display_name}: {count}\")"
   ]
  },
  {
   "cell_type": "markdown",
   "metadata": {},
   "source": [
    "### Efficiency Calculation"
   ]
  },
  {
   "cell_type": "code",
   "execution_count": null,
   "metadata": {},
   "outputs": [
    {
     "name": "stdout",
     "output_type": "stream",
     "text": [
      "Traditional approach: 12 API calls\n",
      "Batch approach: 1 API call\n",
      "Token efficiency potential: ~8× fewer tokens\n",
      "Cost reduction potential: ~88%\n"
     ]
    }
   ],
   "source": [
    "# Calculate theoretical efficiency\n",
    "question_count = 8  # Number of research questions\n",
    "traditional_calls = content_summary.traditional_api_calls  # sources x questions\n",
    "batch_calls = 1\n",
    "\n",
    "print(f\"Traditional approach: {traditional_calls} API calls\")\n",
    "print(f\"Batch approach: {batch_calls} API call\")\n",
    "print(f\"Token efficiency potential: ~{question_count}x fewer tokens\")\n",
    "print(\n",
    "    f\"Cost reduction potential: ~{((question_count - 1) / question_count) * 100:.0f}%\",\n",
    ")"
   ]
  },
  {
   "cell_type": "markdown",
   "metadata": {},
   "source": [
    "Automatic source counting enables precise efficiency calculation.\n",
    "\n",
    "---\n",
    "\n",
    "## Section 3: Batch Processing in Action\n",
    "\n",
    "### Structured Output Schema\n",
    "\n",
    "Define the research synthesis structure for reliable parsing:"
   ]
  },
  {
   "cell_type": "code",
   "execution_count": null,
   "metadata": {},
   "outputs": [],
   "source": [
    "class ResearchSynthesis(BaseModel):\n",
    "    \"\"\"Pydantic model for research synthesis.\"\"\"\n",
    "\n",
    "    executive_summary: str\n",
    "    main_techniques: list[str]\n",
    "    most_promising_approach: str\n",
    "    research_gaps: list[str]\n",
    "    future_directions: list[str]\n",
    "    practical_recommendations: list[str]"
   ]
  },
  {
   "cell_type": "markdown",
   "metadata": {},
   "source": [
    "### Research Questions\n",
    "\n",
    "Cross-source synthesis questions that leverage multiple sources simultaneously:"
   ]
  },
  {
   "cell_type": "code",
   "execution_count": 6,
   "metadata": {},
   "outputs": [],
   "source": [
    "synthesis_questions = [\n",
    "    \"What are the main efficiency techniques proposed across all sources?\",\n",
    "    \"Create a comprehensive comparison of approaches and results across sources.\",\n",
    "    \"What are the key trade-offs between accuracy and efficiency mentioned?\",\n",
    "    \"Which approaches show the most promising results based on collective evidence?\",\n",
    "    \"What gaps exist in current AI efficiency research based on these sources?\",\n",
    "    \"What future research directions are suggested across all sources?\",\n",
    "    \"Write a 400-word executive summary synthesizing key findings across all sources.\",\n",
    "    \"What practical recommendations emerge for practitioners \"\n",
    "    \"wanting to improve model efficiency?\",\n",
    "]"
   ]
  },
  {
   "cell_type": "markdown",
   "metadata": {},
   "source": [
    "### Single API Call Processing"
   ]
  },
  {
   "cell_type": "code",
   "execution_count": 7,
   "metadata": {},
   "outputs": [
    {
     "name": "stdout",
     "output_type": "stream",
     "text": [
      "✅ Analyzed 12 sources in 63.6 seconds\n"
     ]
    }
   ],
   "source": [
    "# Initialize processor\n",
    "processor = BatchProcessor()\n",
    "\n",
    "# Process all sources and questions simultaneously\n",
    "result = processor.process_questions_multi_source(\n",
    "    sources=sources,\n",
    "    questions=synthesis_questions,\n",
    "    response_schema=ResearchSynthesis,\n",
    "    system_instruction=(\n",
    "        \"Provide focused, complete responses. For lists, include 3-5 key items.\"\n",
    "    ),\n",
    ")\n",
    "\n",
    "# Extract structured results\n",
    "synthesis: ResearchSynthesis = result[\"structured_data\"]\n",
    "processing_time = result.get(\"processing_time\", 0)\n",
    "\n",
    "print(\n",
    "    f\"✅ Analyzed {content_summary.total_count} sources in \"\n",
    "    f\"{processing_time:.1f} seconds\",\n",
    ")"
   ]
  },
  {
   "cell_type": "markdown",
   "metadata": {},
   "source": [
    "### Synthesis Results"
   ]
  },
  {
   "cell_type": "code",
   "execution_count": 8,
   "metadata": {},
   "outputs": [
    {
     "name": "stdout",
     "output_type": "stream",
     "text": [
      "🎯 CROSS-SOURCE SYNTHESIS RESULTS:\n",
      "Executive Summary:\n",
      "  Model efficiency in AI is becoming increasingly important due to the\n",
      "  exponential increase in computational demands and limitations in hardware\n",
      "  resources. Model-centric approaches such as pruning, quantization, and\n",
      "  knowledge distillation help reduce model size, inference latency, and energy\n",
      "  consumption. Pruning reduces the number of parameters; quantization reduces\n",
      "  bit-width, and knowledge distillation transfers knowledge from larger models\n",
      "  to smaller ones. However, a shift towards data-centric approaches, especially\n",
      "  token compression, is crucial for handling the quadratic cost of self-\n",
      "  attention over long token sequences. A promising future direction is the co-\n",
      "  development of data and model-centric compression strategies to maximize\n",
      "  overall efficiency. Researchers should explore non-traditional transformer\n",
      "  architectures, study methods to accelerate and scale data-centric compression,\n",
      "  and ensure that these techniques can handle the computational and memory\n",
      "  demands of larger inputs effectively, and do further study on the data aspects\n",
      "  to improve the results, since some data and/or data combinations may actually\n",
      "  help or harm performance.\n",
      "\n",
      "Main Techniques:\n",
      "  • Low-Rank Adaptation (LoRA)\n",
      "  • pruning\n",
      "  • quantization\n",
      "  • knowledge distillation\n",
      "  • token compression\n",
      "\n",
      "Most Promising:\n",
      "  The analysis concludes that there is no single universal approach that is best\n",
      "  in every single situation. Combinations of techniques offer the most\n",
      "  flexibility in balancing all trade-offs.\n",
      "\n",
      "Research Gaps:\n",
      "  • Reliability of attention scores for token compression.\n",
      "  • Limitations of token compression with visual grounding tasks\n",
      "  • Difficulty capturing fine-grained local details when performing image token\n",
      "  compression.\n"
     ]
    }
   ],
   "source": [
    "import textwrap\n",
    "\n",
    "\n",
    "def wrap_text(text, width=80, indent=\"\"):\n",
    "    \"\"\"Wrap text at word boundaries with optional indentation.\"\"\"\n",
    "    return textwrap.fill(\n",
    "        text,\n",
    "        width=width,\n",
    "        initial_indent=indent,\n",
    "        subsequent_indent=indent,\n",
    "    )\n",
    "\n",
    "\n",
    "print(\"🎯 CROSS-SOURCE SYNTHESIS RESULTS:\")\n",
    "\n",
    "print(\"Executive Summary:\")\n",
    "print(wrap_text(synthesis.executive_summary, width=80, indent=\"  \"))\n",
    "\n",
    "print(\"\\nMain Techniques:\")\n",
    "for technique in synthesis.main_techniques[:5]:\n",
    "    print(wrap_text(f\"• {technique}\", width=80, indent=\"  \"))\n",
    "\n",
    "print(\"\\nMost Promising:\")\n",
    "print(wrap_text(synthesis.most_promising_approach, width=80, indent=\"  \"))\n",
    "\n",
    "print(\"\\nResearch Gaps:\")\n",
    "for gap in synthesis.research_gaps[:3]:\n",
    "    print(wrap_text(f\"• {gap}\", width=80, indent=\"  \"))"
   ]
  },
  {
   "cell_type": "markdown",
   "metadata": {},
   "source": [
    "The structured output ensures reliable data extraction and enables systematic analysis across diverse academic sources.\n",
    "\n",
    "---\n",
    "\n",
    "## Section 4: Efficiency Validation\n",
    "\n",
    "> **Note**: The following comparison uses Gemini 2.0 Flash (free tier). Efficiency gains apply regardless of model choice, while synthesis quality scales with model capabilities.\n",
    "\n",
    "### Actual vs Theoretical Comparison\n",
    "\n",
    "Test with a reduced question set to measure real efficiency gains:\n"
   ]
  },
  {
   "cell_type": "code",
   "execution_count": 9,
   "metadata": {},
   "outputs": [],
   "source": [
    "# Subset for comparison (faster execution)\n",
    "comparison_questions = [\n",
    "    \"What are the main efficiency techniques proposed across all sources?\",\n",
    "    \"Which approaches show the most promising results based on collective evidence?\",\n",
    "    \"What practical recommendations emerge for practitioners?\",\n",
    "]\n",
    "\n",
    "# Enable comparison mode for efficiency measurement\n",
    "comparison_result = processor.process_questions_multi_source(\n",
    "    sources=sources,\n",
    "    questions=comparison_questions,\n",
    "    compare_methods=True,  # This runs both batch and individual processing\n",
    "    response_schema=ResearchSynthesis,\n",
    ")"
   ]
  },
  {
   "cell_type": "markdown",
   "metadata": {},
   "source": [
    "### Efficiency Metrics"
   ]
  },
  {
   "cell_type": "code",
   "execution_count": null,
   "metadata": {},
   "outputs": [
    {
     "name": "stdout",
     "output_type": "stream",
     "text": [
      "📊 EFFICIENCY ANALYSIS:\n",
      "Individual calls: 3\n",
      "Batch calls: 1\n",
      "Tokens - Individual: 846,281\n",
      "Tokens - Batch: 282,104\n",
      "Tokens saved: 564,177 (66.7% reduction)\n",
      "Token efficiency: 3.0× improvement\n",
      "Time efficiency: 3.7× improvement\n",
      "Meets 3× target: ✅\n"
     ]
    },
    {
     "data": {
      "image/png": "[encoded data removed]",
      "text/plain": [
       "<Figure size 1200x500 with 2 Axes>"
      ]
     },
     "metadata": {},
     "output_type": "display_data"
    }
   ],
   "source": [
    "from gemini_batch.analysis.visualization import create_focused_efficiency_visualization\n",
    "\n",
    "efficiency = comparison_result[\"efficiency\"]\n",
    "metrics = comparison_result[\"metrics\"]\n",
    "\n",
    "if efficiency[\"comparison_available\"]:\n",
    "    individual_total = metrics[\"individual\"][\"tokens\"]\n",
    "    batch_total = metrics[\"batch\"][\"tokens\"]\n",
    "    tokens_saved = individual_total - batch_total\n",
    "\n",
    "    print(\"📊 EFFICIENCY ANALYSIS:\")\n",
    "    print(f\"Individual calls: {metrics['individual']['calls']}\")\n",
    "    print(f\"Batch calls: {metrics['batch']['calls']}\")\n",
    "    print(f\"Tokens - Individual: {individual_total:,}\")\n",
    "    print(f\"Tokens - Batch: {batch_total:,}\")\n",
    "    print(\n",
    "        f\"Tokens saved: {tokens_saved:,} \"\n",
    "        f\"({(tokens_saved / individual_total) * 100:.1f}% reduction)\",\n",
    "    )\n",
    "    print(f\"Token efficiency: {efficiency['token_efficiency_ratio']:.1f}x improvement\")\n",
    "    print(f\"Time efficiency: {efficiency['time_efficiency']:.1f}x improvement\")\n",
    "    print(f\"Meets 3x target: {'✅' if efficiency['meets_target'] else '❌'}\")\n",
    "\n",
    "create_focused_efficiency_visualization(comparison_result)"
   ]
  },
  {
   "cell_type": "markdown",
   "metadata": {},
   "source": [
    "### Validation Summary"
   ]
  },
  {
   "cell_type": "code",
   "execution_count": null,
   "metadata": {},
   "outputs": [
    {
     "name": "stdout",
     "output_type": "stream",
     "text": [
      "Theoretical efficiency: ~3× expected\n",
      "Actual efficiency: 3.0× achieved\n",
      "Efficiency realization: 100.0% of theoretical maximum\n"
     ]
    }
   ],
   "source": [
    "# Compare theoretical vs actual\n",
    "theoretical_ratio = len(comparison_questions)\n",
    "actual_ratio = efficiency[\"token_efficiency_ratio\"]\n",
    "efficiency_realization = (actual_ratio / theoretical_ratio) * 100\n",
    "\n",
    "print(f\"Theoretical efficiency: ~{theoretical_ratio}x expected\")\n",
    "print(f\"Actual efficiency: {actual_ratio:.1f}x achieved\")\n",
    "print(f\"Efficiency realization: {efficiency_realization:.1f}% of theoretical maximum\")"
   ]
  },
  {
   "cell_type": "markdown",
   "metadata": {},
   "source": [
    "Real-world efficiency closely matches theoretical predictions, validating the token economics model.\n",
    "\n",
    "---\n",
    "\n",
    "## Section 5: Research Impact Summary\n",
    "\n",
    "### Workflow Transformation\n",
    "\n",
    "**Research workflow transformation:**\n",
    "| Traditional | AI-Accelerated |\n",
    "|-------------|----------------|\n",
    "| Days | Minutes |\n",
    "| High repetition | 66% cost reduction |\n",
    "| Manual notes | Structured data |\n",
    "\n",
    "### Quantified Benefits\n",
    "\n",
    "From our demonstration:"
   ]
  },
  {
   "cell_type": "code",
   "execution_count": null,
   "metadata": {},
   "outputs": [
    {
     "name": "stdout",
     "output_type": "stream",
     "text": [
      "📊 WORKFLOW IMPACT:\n",
      "Sources analyzed: 12\n",
      "Processing time: 63.6 seconds\n",
      "API calls reduced: 12 → 1\n",
      "Token efficiency: 3.0× improvement\n",
      "Cost reduction: 66.7%\n"
     ]
    }
   ],
   "source": [
    "# Print final impact metrics\n",
    "print(\"📊 WORKFLOW IMPACT:\")\n",
    "print(f\"Sources analyzed: {content_summary.total_count}\")\n",
    "print(f\"Processing time: {processing_time:.1f} seconds\")\n",
    "print(f\"API calls reduced: {traditional_calls} → 1\")\n",
    "print(f\"Token efficiency: {actual_ratio:.1f}x improvement\")\n",
    "print(f\"Cost reduction: {(tokens_saved / individual_total) * 100:.1f}%\")"
   ]
  },
  {
   "cell_type": "markdown",
   "metadata": {},
   "source": [
    "### Key Capabilities Demonstrated\n",
    "\n",
    "1. **Multi-source integration**: PDFs, URLs, videos processed uniformly\n",
    "2. **Cross-source synthesis**: Analysis across sources, not just individual Q&A\n",
    "3. **Structured output**: Machine-readable results for research workflows\n",
    "4. **Efficiency optimization**: 66.7% token reduction with maintained quality\n",
    "5. **Scalable processing**: Linear scaling with question count\n",
    "\n",
    "### Research Applications\n",
    "\n",
    "This approach enables:\n",
    "- **Rapid literature reviews** for grant writing and research planning\n",
    "- **Systematic comparisons** across research methodologies\n",
    "- **Gap analysis** for identifying research opportunities  \n",
    "- **Knowledge synthesis** for survey papers and reviews\n",
    "\n",
    "The framework handles diverse academic content types while maintaining research rigor through structured analysis and quality validation."
   ]
  }
 ],
 "metadata": {
  "kernelspec": {
   "display_name": "venv",
   "language": "python",
   "name": "python3"
  },
  "language_info": {
   "codemirror_mode": {
    "name": "ipython",
    "version": 3
   },
   "file_extension": ".py",
   "mimetype": "text/x-python",
   "name": "python",
   "nbconvert_exporter": "python",
   "pygments_lexer": "ipython3",
   "version": "3.13.5"
  }
 },
 "nbformat": 4,
 "nbformat_minor": 2
}
